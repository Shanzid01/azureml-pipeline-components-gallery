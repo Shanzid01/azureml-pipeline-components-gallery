{
 "cells": [
  {
   "cell_type": "markdown",
   "metadata": {},
   "source": [
    "Copyright (c) Microsoft Corporation. All rights reserved.\n",
    "\n",
    "Licensed under the MIT License."
   ]
  },
  {
   "cell_type": "markdown",
   "metadata": {},
   "source": [
    "# Image classification distributed training\n",
    "\n",
    "This is a sample to demonstrate distributed training in azure machine learning. In this pipeline, we use designer built-in modules to do image preprocessing on cpu nodes, and a mpi custom module on distributed gpu nodes.\n",
    "\n",
    "\n",
    "You will learn how to:\n",
    "* Using unregistered modules: Load modules from local yaml spec using module SDK.\n",
    "* Build pipeline with unregistered modules and AzureML built-in modules.\n"
   ]
  },
  {
   "cell_type": "markdown",
   "metadata": {},
   "source": [
    "## Prerequisites\n",
    "* Install azure cli with azure-cli-ml extension following the [instructions here](setup-environment.ipynb)."
   ]
  },
  {
   "cell_type": "markdown",
   "metadata": {},
   "source": [
    "## Configure workspace and compute"
   ]
  },
  {
   "cell_type": "code",
   "execution_count": null,
   "metadata": {
    "tags": []
   },
   "outputs": [],
   "source": [
    "from azureml.core import Workspace\n",
    "\n",
    "# TODO: Configure your workspace information here.\n",
    "workspace = Workspace.get(\n",
    "    name='Your workspace name',\n",
    "    subscription_id='Your subscription ID',\n",
    "    resource_group='Your resource group name'\n",
    ")\n",
    "print(workspace.name, workspace.resource_group, workspace.location, workspace.subscription_id, sep = '\\n')"
   ]
  },
  {
   "cell_type": "markdown",
   "metadata": {},
   "source": [
    "## Retrieve or create an Azure Machine Learning compute target\n",
    "Azure Machine Learning Compute is a service for provisioning and managing clusters of Azure virtual machines for running machine learning workloads. Create a new Azure Machine Learning Compute in the current workspace, if it doesn't already exist. We will then run the pipeline on this compute target.\n",
    "\n",
    "If we could not find the compute with the given name, then we will create a new compute here. This process is broken down into the following steps:\n",
    "\n",
    "1. Create the configuration\n",
    "2. Create the Azure Machine Learning compute\n",
    "\n",
    "**This process will take a few minutes and is providing only sparse output in the process. Please make sure to wait until the call returns before moving to the next cell.**"
   ]
  },
  {
   "cell_type": "code",
   "execution_count": null,
   "metadata": {
    "tags": []
   },
   "outputs": [],
   "source": [
    "from azureml.core.compute import ComputeTarget, AmlCompute\n",
    "from azureml.exceptions import ComputeTargetException\n",
    "\n",
    "# specify aml compute name.\n",
    "gpu_compute_target = 'gpu-cluster'\n",
    "cpu_compute_target = 'compute-ds3v2'\n",
    "try:\n",
    "    gpu_compute = AmlCompute(workspace, gpu_compute_target)\n",
    "    print(\"Found existing gpu compute target: {}\".format(gpu_compute_target))\n",
    "except:\n",
    "    print(\"Need to create a new gpu compute\")\n",
    "    provisioning_config = AmlCompute.provisioning_configuration(vm_size = \"STANDARD_NC6\",\n",
    "                                                                min_nodes = 0, \n",
    "                                                                max_nodes = 4)\n",
    "    gpu_compute = ComputeTarget.create(workspace, gpu_compute_target, provisioning_config)\n",
    "    gpu_compute.wait_for_completion(show_output=True, min_node_count=None, timeout_in_minutes=20)\n",
    "\n",
    "try:\n",
    "    cpu_compute = AmlCompute(workspace, cpu_compute_target)\n",
    "    print(\"Found existing cpu compute target: {}\".format(cpu_compute_target))\n",
    "except:\n",
    "    print(\"Creating a new cpu compute target: {}\".format(cpu_compute_target))  \n",
    "    provisioning_config = AmlCompute.provisioning_configuration(vm_size = \"STANDARD_DS3_V2\",\n",
    "                                                                min_nodes = 0, \n",
    "                                                                max_nodes = 4)    \n",
    "    cpu_compute = ComputeTarget.create(workspace, cpu_compute_target, provisioning_config)\n",
    "    cpu_compute.wait_for_completion(show_output=True, min_node_count=None, timeout_in_minutes=20)"
   ]
  },
  {
   "cell_type": "markdown",
   "metadata": {},
   "source": [
    "## Prepare dataset\n",
    "This dataset is a subset of the [Open Images Dataset](https://storage.googleapis.com/openimages/web/index.html).\n",
    "- training dataset contains 24 images (3 categories * 8 images per category)\n",
    "- validation dataset contains 6 images (3 categories * 2 images per category)\n",
    "\n",
    "This is a extremely small dataset only for demo usage for this notebook. Use larger datasets to train models for production usage. \n",
    "\n",
    "NOTE: Use zip file here to avoid performance issue of mounting file dataset with many subfolders."
   ]
  },
  {
   "cell_type": "code",
   "execution_count": null,
   "metadata": {
    "tags": []
   },
   "outputs": [],
   "source": [
    "import hashlib\n",
    "from pathlib import Path\n",
    "from azureml.core import Dataset\n",
    "\n",
    "def register_dataset_by_path(ws: Workspace, dataset_name, path):\n",
    "    if not path.is_dir():\n",
    "        raise ValueError(f\"Dataset must be a folder.\")\n",
    "    # Upload path to datastore\n",
    "    m = hashlib.sha256()\n",
    "    m.update(str(path).encode())\n",
    "    ds_path = m.hexdigest()\n",
    "\n",
    "    datastore = ws.get_default_datastore()\n",
    "    path_on_datastore = folder_on_datastore = f'/data/{ds_path}'\n",
    "    datastore.upload(str(path), target_path=folder_on_datastore)\n",
    "\n",
    "    # Create a FileDataset\n",
    "    datastore_paths = [(datastore, path_on_datastore + '/**')]\n",
    "    dataset = Dataset.File.from_files(datastore_paths)\n",
    "    print(f\"Registering dataset for path {path}\")\n",
    "    dataset.register(ws, name=dataset_name, create_new_version=True)\n",
    "    print(\"Dataset registered\", dataset)\n",
    "    return Dataset.get_by_name(ws, name=dataset_name)\n",
    "\n",
    "train_image_dataset = register_dataset_by_path(workspace, dataset_name='TrainData', path=Path('assets/image-classification/train'))\n",
    "val_image_dataset = register_dataset_by_path(workspace, dataset_name='ValidData', path=Path('assets/image-classification/val'))"
   ]
  },
  {
   "cell_type": "markdown",
   "metadata": {},
   "source": [
    "## Load modules"
   ]
  },
  {
   "cell_type": "code",
   "execution_count": null,
   "metadata": {},
   "outputs": [],
   "source": [
    "from azureml.pipeline.wrapper import Module\n",
    "\n",
    "# load built-in modules\n",
    "convert_func = Module.load(workspace, namespace='azureml', name='Convert to Image Directory')\n",
    "init_transform_func = Module.load(workspace, namespace='azureml', name='Init Image Transformation')\n",
    "apply_transform_func = Module.load(workspace, namespace='azureml', name='Apply Image Transformation')"
   ]
  },
  {
   "cell_type": "code",
   "execution_count": null,
   "metadata": {},
   "outputs": [],
   "source": [
    "# load local modules\n",
    "# this train module is an mpi module.\n",
    "train_module = Module.from_yaml(workspace, yaml_file='modules/imagecnn-train/entry.spec.yaml')"
   ]
  },
  {
   "cell_type": "markdown",
   "metadata": {},
   "source": [
    "## Set up a pipeline\n",
    "\n",
    "Create a pipeline using the modules, and submit experiment to AzureML using module SDK.\n",
    "\n",
    "Here is a [preview of the pipeline](assets/image-classification/pipeline.png)."
   ]
  },
  {
   "cell_type": "code",
   "execution_count": null,
   "metadata": {},
   "outputs": [],
   "source": [
    "from azureml.pipeline.wrapper import dsl\n",
    "\n",
    "# define pipeline\n",
    "@dsl.pipeline(name='image classification', description='image classification', default_compute_target=cpu_compute_target)\n",
    "def generated_pipeline():\n",
    "    convert_train = convert_func(\n",
    "        input_dataset=train_image_dataset\n",
    "    )\n",
    "    \n",
    "    convert_val = convert_func(\n",
    "        input_dataset=val_image_dataset\n",
    "    )\n",
    "    \n",
    "    init_trans = init_transform_func(\n",
    "        resize='False',\n",
    "        size=256,\n",
    "        center_crop='False',\n",
    "        crop_size=224,\n",
    "        pad='False',\n",
    "        padding=0,\n",
    "        color_jitter='False',\n",
    "        grayscale='False',\n",
    "        random_resized_crop='False',\n",
    "        random_resized_crop_size=256,\n",
    "        random_crop='False',\n",
    "        random_crop_size=224,\n",
    "        random_horizontal_flip='True',\n",
    "        random_vertical_flip='False',\n",
    "        random_rotation='False',\n",
    "        random_rotation_degrees=0,\n",
    "        random_affine='False',\n",
    "        random_affine_degrees=0,\n",
    "        random_grayscale='False',\n",
    "        random_perspective='False'\n",
    "    )\n",
    "    \n",
    "    apply_trans_on_train = apply_transform_func(\n",
    "        mode='For training',\n",
    "        input_image_transformation=init_trans.outputs.output_image_transformation,\n",
    "        input_image_directory=convert_train.outputs.output_image_directory\n",
    "    )\n",
    "    \n",
    "    apply_trans_on_val = apply_transform_func(\n",
    "        mode='For inference',\n",
    "        input_image_transformation=init_trans.outputs.output_image_transformation,\n",
    "        input_image_directory=convert_val.outputs.output_image_directory\n",
    "    )\n",
    "    \n",
    "    train = train_module(\n",
    "        train_data=apply_trans_on_train.outputs.output_image_directory,\n",
    "        valid_data=apply_trans_on_val.outputs.output_image_directory,\n",
    "        data_backend='pytorch',\n",
    "        pretrained_weights=None,\n",
    "        epochs=4,\n",
    "        seed=123,\n",
    "        batch_size=16,\n",
    "        save_checkpoint_epochs=2\n",
    "    )\n",
    "    # perform distributed training with 2 nodes.\n",
    "    # note: process_count_per_node should be 1 because this module will launch distributed processes based on node device count.\n",
    "    train.runsettings.configure(target=gpu_compute_target, node_count=2, process_count_per_node=1)"
   ]
  },
  {
   "cell_type": "code",
   "execution_count": null,
   "metadata": {},
   "outputs": [],
   "source": [
    "# create a pipeline\n",
    "pipeline = generated_pipeline()"
   ]
  },
  {
   "cell_type": "code",
   "execution_count": null,
   "metadata": {
    "tags": []
   },
   "outputs": [],
   "source": [
    "# validate pipeline and visualize the graph\n",
    "pipeline.validate()"
   ]
  },
  {
   "cell_type": "code",
   "execution_count": null,
   "metadata": {
    "tags": []
   },
   "outputs": [],
   "source": [
    "# submit a pipeline run\n",
    "run = pipeline.submit(experiment_name='image_classification')\n",
    "\n",
    "# Show details of the run\n",
    "run\n"
   ]
  },
  {
   "cell_type": "code",
   "execution_count": null,
   "metadata": {
    "tags": []
   },
   "outputs": [],
   "source": [
    "run.wait_for_completion()"
   ]
  },
  {
   "cell_type": "code",
   "execution_count": null,
   "metadata": {},
   "outputs": [],
   "source": []
  }
 ],
 "metadata": {
  "kernelspec": {
   "display_name": "Python 3",
   "language": "python",
   "name": "python3"
  },
  "language_info": {
   "codemirror_mode": {
    "name": "ipython",
    "version": 3
   },
   "file_extension": ".py",
   "mimetype": "text/x-python",
   "name": "python",
   "nbconvert_exporter": "python",
   "pygments_lexer": "ipython3",
   "version": "3.6.8-final"
  }
 },
 "nbformat": 4,
 "nbformat_minor": 4
}